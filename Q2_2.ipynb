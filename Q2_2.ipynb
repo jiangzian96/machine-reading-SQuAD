{
  "nbformat": 4,
  "nbformat_minor": 0,
  "metadata": {
    "kernelspec": {
      "name": "python3",
      "display_name": "Python 3"
    },
    "language_info": {
      "codemirror_mode": {
        "name": "ipython",
        "version": 3
      },
      "file_extension": ".py",
      "mimetype": "text/x-python",
      "name": "python",
      "nbconvert_exporter": "python",
      "pygments_lexer": "ipython3",
      "version": "3.7.0"
    },
    "colab": {
      "name": "Q2_2.ipynb",
      "provenance": [],
      "collapsed_sections": [],
      "toc_visible": true,
      "machine_shape": "hm"
    },
    "accelerator": "GPU"
  },
  "cells": [
    {
      "cell_type": "markdown",
      "metadata": {
        "id": "hicQtiVzcF0q",
        "colab_type": "text"
      },
      "source": [
        "# Homework 5: Machine Reading"
      ]
    },
    {
      "cell_type": "markdown",
      "metadata": {
        "id": "HDQWKO3wcF1N",
        "colab_type": "text"
      },
      "source": [
        "## RNN Based Model"
      ]
    },
    {
      "cell_type": "code",
      "metadata": {
        "id": "4lgjg6FLcjY4",
        "colab_type": "code",
        "outputId": "cc75e00d-2582-48d7-d95f-d3ece956d8e6",
        "colab": {
          "base_uri": "https://localhost:8080/",
          "height": 119
        }
      },
      "source": [
        "! git clone https://github.com/williamFalcon/squad.git"
      ],
      "execution_count": 1,
      "outputs": [
        {
          "output_type": "stream",
          "text": [
            "Cloning into 'squad'...\n",
            "remote: Enumerating objects: 14, done.\u001b[K\n",
            "remote: Counting objects: 100% (14/14), done.\u001b[K\n",
            "remote: Compressing objects: 100% (14/14), done.\u001b[K\n",
            "remote: Total 47 (delta 5), reused 3 (delta 0), pack-reused 33\u001b[K\n",
            "Unpacking objects: 100% (47/47), done.\n"
          ],
          "name": "stdout"
        }
      ]
    },
    {
      "cell_type": "code",
      "metadata": {
        "id": "ozEkxxBycm9x",
        "colab_type": "code",
        "outputId": "0977e901-653a-4877-b24a-1b4445e7e509",
        "colab": {
          "base_uri": "https://localhost:8080/",
          "height": 34
        }
      },
      "source": [
        "! cd squad/ && git pull"
      ],
      "execution_count": 2,
      "outputs": [
        {
          "output_type": "stream",
          "text": [
            "Already up to date.\n"
          ],
          "name": "stdout"
        }
      ]
    },
    {
      "cell_type": "code",
      "metadata": {
        "id": "M20t-6kDcnAK",
        "colab_type": "code",
        "outputId": "0854d94d-7b07-4ef7-ff79-4141823cfcb3",
        "colab": {
          "base_uri": "https://localhost:8080/",
          "height": 51
        }
      },
      "source": [
        "! ls squad"
      ],
      "execution_count": 3,
      "outputs": [
        {
          "output_type": "stream",
          "text": [
            "args.py  environment.yml  LICENSE    README.md\tsetup.py  train.py\n",
            "data\t layers.py\t  models.py  save\ttest.py   util.py\n"
          ],
          "name": "stdout"
        }
      ]
    },
    {
      "cell_type": "code",
      "metadata": {
        "id": "yiK94zk8cnEn",
        "colab_type": "code",
        "outputId": "fddf5674-9a13-479e-dddb-06317f588e00",
        "colab": {
          "base_uri": "https://localhost:8080/",
          "height": 207
        }
      },
      "source": [
        "! pip install ujson"
      ],
      "execution_count": 4,
      "outputs": [
        {
          "output_type": "stream",
          "text": [
            "Collecting ujson\n",
            "\u001b[?25l  Downloading https://files.pythonhosted.org/packages/16/c4/79f3409bc710559015464e5f49b9879430d8f87498ecdc335899732e5377/ujson-1.35.tar.gz (192kB)\n",
            "\r\u001b[K     |█▊                              | 10kB 33.7MB/s eta 0:00:01\r\u001b[K     |███▍                            | 20kB 3.1MB/s eta 0:00:01\r\u001b[K     |█████▏                          | 30kB 4.5MB/s eta 0:00:01\r\u001b[K     |██████▉                         | 40kB 3.0MB/s eta 0:00:01\r\u001b[K     |████████▌                       | 51kB 3.7MB/s eta 0:00:01\r\u001b[K     |██████████▎                     | 61kB 4.4MB/s eta 0:00:01\r\u001b[K     |████████████                    | 71kB 5.1MB/s eta 0:00:01\r\u001b[K     |█████████████▋                  | 81kB 5.8MB/s eta 0:00:01\r\u001b[K     |███████████████▍                | 92kB 6.4MB/s eta 0:00:01\r\u001b[K     |█████████████████               | 102kB 5.0MB/s eta 0:00:01\r\u001b[K     |██████████████████▊             | 112kB 5.0MB/s eta 0:00:01\r\u001b[K     |████████████████████▌           | 122kB 5.0MB/s eta 0:00:01\r\u001b[K     |██████████████████████▏         | 133kB 5.0MB/s eta 0:00:01\r\u001b[K     |████████████████████████        | 143kB 5.0MB/s eta 0:00:01\r\u001b[K     |█████████████████████████▋      | 153kB 5.0MB/s eta 0:00:01\r\u001b[K     |███████████████████████████▎    | 163kB 5.0MB/s eta 0:00:01\r\u001b[K     |█████████████████████████████   | 174kB 5.0MB/s eta 0:00:01\r\u001b[K     |██████████████████████████████▊ | 184kB 5.0MB/s eta 0:00:01\r\u001b[K     |████████████████████████████████| 194kB 5.0MB/s \n",
            "\u001b[?25hBuilding wheels for collected packages: ujson\n",
            "  Building wheel for ujson (setup.py) ... \u001b[?25l\u001b[?25hdone\n",
            "  Created wheel for ujson: filename=ujson-1.35-cp36-cp36m-linux_x86_64.whl size=68031 sha256=e29e2adc102e9be0b82cffeebf13182c7ae5c855a5674f0e4bb887e2566a29ee\n",
            "  Stored in directory: /root/.cache/pip/wheels/28/77/e4/0311145b9c2e2f01470e744855131f9e34d6919687550f87d1\n",
            "Successfully built ujson\n",
            "Installing collected packages: ujson\n",
            "Successfully installed ujson-1.35\n"
          ],
          "name": "stdout"
        }
      ]
    },
    {
      "cell_type": "code",
      "metadata": {
        "id": "5SpPMw4OpMOF",
        "colab_type": "code",
        "outputId": "0e628c20-7849-4af2-dd26-b62ed4695e05",
        "colab": {
          "base_uri": "https://localhost:8080/",
          "height": 632
        }
      },
      "source": [
        "! pip install transformers"
      ],
      "execution_count": 5,
      "outputs": [
        {
          "output_type": "stream",
          "text": [
            "Collecting transformers\n",
            "\u001b[?25l  Downloading https://files.pythonhosted.org/packages/ec/e7/0a1babead1b79afabb654fbec0a052e0d833ba4205a6dfd98b1aeda9c82e/transformers-2.2.0-py3-none-any.whl (360kB)\n",
            "\u001b[K     |████████████████████████████████| 368kB 4.9MB/s \n",
            "\u001b[?25hCollecting sacremoses\n",
            "\u001b[?25l  Downloading https://files.pythonhosted.org/packages/1f/8e/ed5364a06a9ba720fddd9820155cc57300d28f5f43a6fd7b7e817177e642/sacremoses-0.0.35.tar.gz (859kB)\n",
            "\u001b[K     |████████████████████████████████| 860kB 39.3MB/s \n",
            "\u001b[?25hRequirement already satisfied: boto3 in /usr/local/lib/python3.6/dist-packages (from transformers) (1.10.18)\n",
            "Collecting regex\n",
            "\u001b[?25l  Downloading https://files.pythonhosted.org/packages/e3/8e/cbf2295643d7265e7883326fb4654e643bfc93b3a8a8274d8010a39d8804/regex-2019.11.1-cp36-cp36m-manylinux1_x86_64.whl (643kB)\n",
            "\u001b[K     |████████████████████████████████| 645kB 39.6MB/s \n",
            "\u001b[?25hRequirement already satisfied: numpy in /usr/local/lib/python3.6/dist-packages (from transformers) (1.17.4)\n",
            "Requirement already satisfied: requests in /usr/local/lib/python3.6/dist-packages (from transformers) (2.21.0)\n",
            "Collecting sentencepiece\n",
            "\u001b[?25l  Downloading https://files.pythonhosted.org/packages/14/3d/efb655a670b98f62ec32d66954e1109f403db4d937c50d779a75b9763a29/sentencepiece-0.1.83-cp36-cp36m-manylinux1_x86_64.whl (1.0MB)\n",
            "\u001b[K     |████████████████████████████████| 1.0MB 42.1MB/s \n",
            "\u001b[?25hRequirement already satisfied: tqdm in /usr/local/lib/python3.6/dist-packages (from transformers) (4.28.1)\n",
            "Requirement already satisfied: six in /usr/local/lib/python3.6/dist-packages (from sacremoses->transformers) (1.12.0)\n",
            "Requirement already satisfied: click in /usr/local/lib/python3.6/dist-packages (from sacremoses->transformers) (7.0)\n",
            "Requirement already satisfied: joblib in /usr/local/lib/python3.6/dist-packages (from sacremoses->transformers) (0.14.0)\n",
            "Requirement already satisfied: botocore<1.14.0,>=1.13.18 in /usr/local/lib/python3.6/dist-packages (from boto3->transformers) (1.13.18)\n",
            "Requirement already satisfied: jmespath<1.0.0,>=0.7.1 in /usr/local/lib/python3.6/dist-packages (from boto3->transformers) (0.9.4)\n",
            "Requirement already satisfied: s3transfer<0.3.0,>=0.2.0 in /usr/local/lib/python3.6/dist-packages (from boto3->transformers) (0.2.1)\n",
            "Requirement already satisfied: idna<2.9,>=2.5 in /usr/local/lib/python3.6/dist-packages (from requests->transformers) (2.8)\n",
            "Requirement already satisfied: chardet<3.1.0,>=3.0.2 in /usr/local/lib/python3.6/dist-packages (from requests->transformers) (3.0.4)\n",
            "Requirement already satisfied: urllib3<1.25,>=1.21.1 in /usr/local/lib/python3.6/dist-packages (from requests->transformers) (1.24.3)\n",
            "Requirement already satisfied: certifi>=2017.4.17 in /usr/local/lib/python3.6/dist-packages (from requests->transformers) (2019.9.11)\n",
            "Requirement already satisfied: python-dateutil<2.8.1,>=2.1; python_version >= \"2.7\" in /usr/local/lib/python3.6/dist-packages (from botocore<1.14.0,>=1.13.18->boto3->transformers) (2.6.1)\n",
            "Requirement already satisfied: docutils<0.16,>=0.10 in /usr/local/lib/python3.6/dist-packages (from botocore<1.14.0,>=1.13.18->boto3->transformers) (0.15.2)\n",
            "Building wheels for collected packages: sacremoses\n",
            "  Building wheel for sacremoses (setup.py) ... \u001b[?25l\u001b[?25hdone\n",
            "  Created wheel for sacremoses: filename=sacremoses-0.0.35-cp36-none-any.whl size=883999 sha256=d8dcd3d4992a3851bd05208d0e8730c84934f8c61bbb5d9c72b9272fcc8ff1fe\n",
            "  Stored in directory: /root/.cache/pip/wheels/63/2a/db/63e2909042c634ef551d0d9ac825b2b0b32dede4a6d87ddc94\n",
            "Successfully built sacremoses\n",
            "Installing collected packages: sacremoses, regex, sentencepiece, transformers\n",
            "Successfully installed regex-2019.11.1 sacremoses-0.0.35 sentencepiece-0.1.83 transformers-2.2.0\n"
          ],
          "name": "stdout"
        }
      ]
    },
    {
      "cell_type": "code",
      "metadata": {
        "id": "sTvRcHlCcnHp",
        "colab_type": "code",
        "outputId": "f717259d-a279-4334-c0a5-7451fc993b30",
        "colab": {
          "base_uri": "https://localhost:8080/",
          "height": 785
        }
      },
      "source": [
        "! cd squad/ && python setup.py"
      ],
      "execution_count": 6,
      "outputs": [
        {
          "output_type": "stream",
          "text": [
            "Downloading GloVe word vectors...\n",
            "glove.840B.300d.zip: 2.18GB [16:53, 2.15MB/s]                \n",
            "Unzipping GloVe word vectors...\n",
            "Downloading spacy language model...\n",
            "Requirement already satisfied: en_core_web_sm==2.1.0 from https://github.com/explosion/spacy-models/releases/download/en_core_web_sm-2.1.0/en_core_web_sm-2.1.0.tar.gz#egg=en_core_web_sm==2.1.0 in /usr/local/lib/python3.6/dist-packages (2.1.0)\n",
            "\u001b[38;5;2m✔ Download and installation successful\u001b[0m\n",
            "You can now load the model via spacy.load('en_core_web_sm')\n",
            "\u001b[38;5;2m✔ Linking successful\u001b[0m\n",
            "/usr/local/lib/python3.6/dist-packages/en_core_web_sm -->\n",
            "/usr/local/lib/python3.6/dist-packages/spacy/data/en\n",
            "You can now load the model via spacy.load('en')\n",
            "Pre-processing train examples...\n",
            "100% 442/442 [01:51<00:00,  2.30it/s]\n",
            "130319 questions in total\n",
            "Pre-processing word vectors...\n",
            "2196018it [03:30, 10422.42it/s]                 \n",
            "88744 / 107454 tokens have corresponding word embedding vector\n",
            "Pre-processing char vectors...\n",
            "1374 tokens have corresponding char embedding vector\n",
            "Pre-processing dev examples...\n",
            "100% 16/16 [00:04<00:00,  3.47it/s]\n",
            "6078 questions in total\n",
            "Converting train examples to indices...\n",
            "130319it [00:45, 2850.01it/s]\n",
            "tcmalloc: large alloc 3326009344 bytes == 0x13900a000 @  0x7fcb0db6f1e7 0x7fcb0b64ef71 0x7fcb0b6b255d 0x7fcb0b6b5e28 0x7fcb0b6b63e5 0x7fcb0b74cfc2 0x50abc5 0x50c549 0x5081d5 0x50a020 0x50aa1d 0x50c549 0x509ce8 0x50aa1d 0x50c549 0x5081d5 0x50b3a3 0x635082 0x635137 0x6388ef 0x639491 0x4b0f60 0x7fcb0d76cb97 0x5b2eaa\n",
            "Built 129922 / 130319 instances of features in total\n",
            "Converting dev examples to indices...\n",
            "6078it [00:02, 2722.71it/s]\n",
            "Built 5951 / 6078 instances of features in total\n",
            "Pre-processing test examples...\n",
            "100% 20/20 [00:04<00:00,  5.00it/s]\n",
            "5915 questions in total\n",
            "Saving test eval...\n",
            "Converting test examples to indices...\n",
            "5915it [00:02, 2525.30it/s]\n",
            "Built 5915 / 5915 instances of features in total\n",
            "Saving test meta...\n",
            "Saving word embedding...\n",
            "Saving char embedding...\n",
            "Saving train eval...\n",
            "Saving dev eval...\n",
            "Saving word dictionary...\n",
            "Saving char dictionary...\n",
            "Saving dev meta...\n"
          ],
          "name": "stdout"
        }
      ]
    },
    {
      "cell_type": "code",
      "metadata": {
        "id": "VzLrExy-lrS4",
        "colab_type": "code",
        "colab": {}
      },
      "source": [
        "import numpy.random as random\n",
        "import numpy as np\n",
        "seed = 224\n",
        "random.seed(seed)\n",
        "import torch\n",
        "np.random.seed(seed)\n",
        "torch.manual_seed(seed)\n",
        "torch.cuda.manual_seed_all(seed)"
      ],
      "execution_count": 0,
      "outputs": []
    },
    {
      "cell_type": "code",
      "metadata": {
        "id": "SuaiAadMlrvC",
        "colab_type": "code",
        "colab": {}
      },
      "source": [
        "import os\n",
        "import sys\n",
        "module_path = os.path.abspath(os.path.join('..'))\n",
        "if module_path not in sys.path:\n",
        "    sys.path.append(module_path)\n",
        "    \n",
        "import numpy as np\n",
        "import random\n",
        "import torch\n",
        "import torch.nn as nn\n",
        "import torch.nn.functional as F\n",
        "import torch.optim as optim\n",
        "import torch.optim.lr_scheduler as sched\n",
        "import torch.utils.data as data\n",
        "\n",
        "from squad.util import collate_fn, SQuAD\n",
        "from collections import OrderedDict\n",
        "from json import dumps\n",
        "from tqdm import tqdm\n",
        "from ujson import load as json_load\n",
        "#import pytorch_lightning as pl\n",
        "\n",
        "from squad import layers, util\n",
        "import os\n",
        "\n",
        "DIR = os.getcwd()"
      ],
      "execution_count": 0,
      "outputs": []
    },
    {
      "cell_type": "code",
      "metadata": {
        "id": "Qt-HxRTUmxMw",
        "colab_type": "code",
        "outputId": "c6b70a7e-1e15-401d-9f14-7548b72e194c",
        "colab": {
          "base_uri": "https://localhost:8080/",
          "height": 190
        }
      },
      "source": [
        "! pip install tensorboardX"
      ],
      "execution_count": 9,
      "outputs": [
        {
          "output_type": "stream",
          "text": [
            "Collecting tensorboardX\n",
            "\u001b[?25l  Downloading https://files.pythonhosted.org/packages/a6/5c/e918d9f190baab8d55bad52840d8091dd5114cc99f03eaa6d72d404503cc/tensorboardX-1.9-py2.py3-none-any.whl (190kB)\n",
            "\r\u001b[K     |█▊                              | 10kB 20.4MB/s eta 0:00:01\r\u001b[K     |███▍                            | 20kB 3.0MB/s eta 0:00:01\r\u001b[K     |█████▏                          | 30kB 4.4MB/s eta 0:00:01\r\u001b[K     |██████▉                         | 40kB 2.9MB/s eta 0:00:01\r\u001b[K     |████████▋                       | 51kB 3.6MB/s eta 0:00:01\r\u001b[K     |██████████▎                     | 61kB 4.2MB/s eta 0:00:01\r\u001b[K     |████████████                    | 71kB 4.8MB/s eta 0:00:01\r\u001b[K     |█████████████▊                  | 81kB 5.3MB/s eta 0:00:01\r\u001b[K     |███████████████▌                | 92kB 5.9MB/s eta 0:00:01\r\u001b[K     |█████████████████▏              | 102kB 4.8MB/s eta 0:00:01\r\u001b[K     |███████████████████             | 112kB 4.8MB/s eta 0:00:01\r\u001b[K     |████████████████████▋           | 122kB 4.8MB/s eta 0:00:01\r\u001b[K     |██████████████████████▍         | 133kB 4.8MB/s eta 0:00:01\r\u001b[K     |████████████████████████        | 143kB 4.8MB/s eta 0:00:01\r\u001b[K     |█████████████████████████▊      | 153kB 4.8MB/s eta 0:00:01\r\u001b[K     |███████████████████████████▌    | 163kB 4.8MB/s eta 0:00:01\r\u001b[K     |█████████████████████████████▏  | 174kB 4.8MB/s eta 0:00:01\r\u001b[K     |███████████████████████████████ | 184kB 4.8MB/s eta 0:00:01\r\u001b[K     |████████████████████████████████| 194kB 4.8MB/s \n",
            "\u001b[?25hRequirement already satisfied: numpy in /usr/local/lib/python3.6/dist-packages (from tensorboardX) (1.17.4)\n",
            "Requirement already satisfied: protobuf>=3.8.0 in /usr/local/lib/python3.6/dist-packages (from tensorboardX) (3.10.0)\n",
            "Requirement already satisfied: six in /usr/local/lib/python3.6/dist-packages (from tensorboardX) (1.12.0)\n",
            "Requirement already satisfied: setuptools in /usr/local/lib/python3.6/dist-packages (from protobuf>=3.8.0->tensorboardX) (41.6.0)\n",
            "Installing collected packages: tensorboardX\n",
            "Successfully installed tensorboardX-1.9\n"
          ],
          "name": "stdout"
        }
      ]
    },
    {
      "cell_type": "code",
      "metadata": {
        "id": "_JBgEB0SctqX",
        "colab_type": "code",
        "outputId": "458377a5-ec2b-492e-f8ee-d8343f187569",
        "colab": {
          "base_uri": "https://localhost:8080/",
          "height": 595
        }
      },
      "source": [
        "! cd squad && python test.py --split dev --name test1 --load_path a"
      ],
      "execution_count": 57,
      "outputs": [
        {
          "output_type": "stream",
          "text": [
            "[12.03.19 02:12:29] Args: {\n",
            "    \"batch_size\": 64,\n",
            "    \"char_emb_file\": \"./data/char_emb.json\",\n",
            "    \"dev_eval_file\": \"./data/dev_eval.json\",\n",
            "    \"dev_record_file\": \"./data/dev.npz\",\n",
            "    \"hidden_size\": 100,\n",
            "    \"load_path\": \"a\",\n",
            "    \"load_paths\": [\n",
            "        \"save/baseline0.tar\",\n",
            "        \"save/baseline1.tar\",\n",
            "        \"save/baseline2.tar\",\n",
            "        \"save/baseline3.tar\"\n",
            "    ],\n",
            "    \"max_ans_len\": 15,\n",
            "    \"name\": \"test1\",\n",
            "    \"num_visuals\": 10,\n",
            "    \"num_workers\": 4,\n",
            "    \"save_dir\": \"./save/test/test1-26\",\n",
            "    \"split\": \"dev\",\n",
            "    \"sub_file\": \"submission.csv\",\n",
            "    \"test_eval_file\": \"./data/test_eval.json\",\n",
            "    \"test_record_file\": \"./data/test.npz\",\n",
            "    \"train_eval_file\": \"./data/train_eval.json\",\n",
            "    \"train_record_file\": \"./data/train.npz\",\n",
            "    \"use_squad_v2\": true,\n",
            "    \"word_emb_file\": \"./data/word_emb.json\"\n",
            "}\n",
            "[12.03.19 02:12:30] Loading embeddings...\n",
            "[12.03.19 02:12:34] Building model...\n",
            "[12.03.19 02:12:38] Building dataset...\n",
            "[12.03.19 02:12:39] Evaluating on dev split...\n",
            "100% 5951/5951 [00:21<00:00, 285.02it/s, NLL=2.95]\n",
            "[12.03.19 02:13:01] Dev NLL: 02.95, F1: 64.59, EM: 61.62, AvNA: 70.04\n",
            "[12.03.19 02:13:03] Writing submission file to ./save/test/test1-26/dev_submission.csv...\n"
          ],
          "name": "stdout"
        }
      ]
    },
    {
      "cell_type": "markdown",
      "metadata": {
        "id": "ly0NB9rqcF1W",
        "colab_type": "text"
      },
      "source": [
        "##### F1 Score on Dev Set: 64.59\n",
        "##### EM on Dev Set: 61.62"
      ]
    }
  ]
}