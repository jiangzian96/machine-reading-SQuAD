{
  "nbformat": 4,
  "nbformat_minor": 0,
  "metadata": {
    "kernelspec": {
      "name": "python3",
      "display_name": "Python 3"
    },
    "language_info": {
      "codemirror_mode": {
        "name": "ipython",
        "version": 3
      },
      "file_extension": ".py",
      "mimetype": "text/x-python",
      "name": "python",
      "nbconvert_exporter": "python",
      "pygments_lexer": "ipython3",
      "version": "3.7.0"
    },
    "colab": {
      "name": "Q1.ipynb",
      "provenance": [],
      "collapsed_sections": [],
      "machine_shape": "hm"
    },
    "accelerator": "GPU"
  },
  "cells": [
    {
      "cell_type": "markdown",
      "metadata": {
        "id": "TSmbjvu-9fZt",
        "colab_type": "text"
      },
      "source": [
        "# Homework 5: Machine Reading"
      ]
    },
    {
      "cell_type": "markdown",
      "metadata": {
        "id": "TYnP6m8y9fZv",
        "colab_type": "text"
      },
      "source": [
        "## 1. Random QA"
      ]
    },
    {
      "cell_type": "markdown",
      "metadata": {
        "id": "hdSYK8vA9fZw",
        "colab_type": "text"
      },
      "source": [
        "1) What is the probability $p_{k,n}$ that our random QA system will output an answer with $k$ tokens when given a context paragraph with $n$ token as input?"
      ]
    },
    {
      "cell_type": "markdown",
      "metadata": {
        "id": "fWY_KMuJ9fZx",
        "colab_type": "text"
      },
      "source": [
        "$$p_{k,n} = \\frac{2\\times(n-k+1)}{n\\times(n+1)}$$"
      ]
    },
    {
      "cell_type": "markdown",
      "metadata": {
        "id": "E2bxwCaD9fZy",
        "colab_type": "text"
      },
      "source": [
        "2) For a fixed $n$ of $100$, produce a plot of $p_{k,n}$ and $\\hat{p}_{k,n}$  vs $k$. Design a monte-carlo experiment to estimate the values for $\\hat{p}_{k,n}$."
      ]
    },
    {
      "cell_type": "code",
      "metadata": {
        "id": "DH9qOXW_9fZz",
        "colab_type": "code",
        "colab": {}
      },
      "source": [
        "import numpy as np\n",
        "import matplotlib.pyplot as plt"
      ],
      "execution_count": 0,
      "outputs": []
    },
    {
      "cell_type": "code",
      "metadata": {
        "id": "xPpoq4vs9fZ1",
        "colab_type": "code",
        "colab": {}
      },
      "source": [
        "def p_k_n(k, n):\n",
        "    #implement answer from part 1 here\n",
        "    p_k_n = 2*(n-k+1)/(n*(n+1))\n",
        "    return p_k_n"
      ],
      "execution_count": 0,
      "outputs": []
    },
    {
      "cell_type": "code",
      "metadata": {
        "id": "PFqSONJO9fZ4",
        "colab_type": "code",
        "colab": {}
      },
      "source": [
        "def monte_carlo_p_k_n(k, n, T = int(1e5)):\n",
        "    success = 0\n",
        "    for i in range(T):\n",
        "      while True:\n",
        "        start = np.random.randint(1,n+1)\n",
        "        end = np.random.randint(1,n+1)\n",
        "        if end >= start:\n",
        "          if end - start + 1 == k:\n",
        "            success += 1\n",
        "          break\n",
        "    return success/T"
      ],
      "execution_count": 0,
      "outputs": []
    },
    {
      "cell_type": "code",
      "metadata": {
        "id": "iA_7qV4k9fZ6",
        "colab_type": "code",
        "colab": {}
      },
      "source": [
        "k_array = np.arange(1, 100, 5)\n",
        "p_k_n_hat = [monte_carlo_p_k_n(k, n=100, T = int(1e5)) for k in k_array]\n",
        "p_k_n = [p_k_n(k, n=100) for k in k_array]"
      ],
      "execution_count": 0,
      "outputs": []
    },
    {
      "cell_type": "code",
      "metadata": {
        "id": "B8FUfIzU9fZ8",
        "colab_type": "code",
        "outputId": "63e7b1b0-0523-468a-f401-00d9393a9a68",
        "colab": {
          "base_uri": "https://localhost:8080/",
          "height": 282
        }
      },
      "source": [
        "plt.plot(k_array, p_k_n_hat, label = r'$\\hat{p_{k,n}}$')\n",
        "plt.plot(k_array, p_k_n, label = r'$p_{k, n}$')\n",
        "plt.legend()"
      ],
      "execution_count": 9,
      "outputs": [
        {
          "output_type": "execute_result",
          "data": {
            "text/plain": [
              "<matplotlib.legend.Legend at 0x7f2175bf6ba8>"
            ]
          },
          "metadata": {
            "tags": []
          },
          "execution_count": 9
        },
        {
          "output_type": "display_data",
          "data": {
            "image/png": "[encoded data removed]",
            "text/plain": [
              "<Figure size 432x288 with 1 Axes>"
            ]
          },
          "metadata": {
            "tags": []
          }
        }
      ]
    },
    {
      "cell_type": "markdown",
      "metadata": {
        "id": "CU2fhA799fZ_",
        "colab_type": "text"
      },
      "source": [
        "3) Calculate the expected length of the answer given by your random QA system. i,e write an expression for $L_n = E[K]$ (It's fine to leave it as a summation)."
      ]
    },
    {
      "cell_type": "markdown",
      "metadata": {
        "id": "PNsIOj5y9faA",
        "colab_type": "text"
      },
      "source": [
        "$$ L_n = \\frac{2}{n\\times(n+1)}\\sum_{i=1}^{n}i\\times(n+1-i)$$"
      ]
    },
    {
      "cell_type": "markdown",
      "metadata": {
        "id": "vHJyvOOO9faA",
        "colab_type": "text"
      },
      "source": [
        "4) Plot $\\hat{L_n}$ estimated through monte-carlo simulations and $L_n$ for $n = 5, 10, 25, 50, 100, 250$ and $500$."
      ]
    },
    {
      "cell_type": "code",
      "metadata": {
        "id": "f60V1azS9faB",
        "colab_type": "code",
        "colab": {}
      },
      "source": [
        "def L_n(n):\n",
        "    #implement answer from above\n",
        "    array = np.arange(1,n+1)\n",
        "    l_n = sum(array*(n+1-array))*2/(n*(n+1))\n",
        "    return l_n\n",
        "\n",
        "def monte_carlo_L_n(n, T = int(1e5)):\n",
        "    #T is the number of times you run experiment\n",
        "    total = 0\n",
        "    for i in range(T):\n",
        "      while True:\n",
        "        start = np.random.randint(1,n+1)\n",
        "        end = np.random.randint(1,n+1)\n",
        "        if end >= start:\n",
        "          total += end - start + 1\n",
        "          break\n",
        "    return total/T"
      ],
      "execution_count": 0,
      "outputs": []
    },
    {
      "cell_type": "code",
      "metadata": {
        "id": "QykWTdth9faD",
        "colab_type": "code",
        "colab": {}
      },
      "source": [
        "n_array = [5, 10, 25, 50, 100, 250, 500]\n",
        "l_n_hat = [monte_carlo_L_n(n, T = int(1e5)) for n in n_array]\n",
        "l_n = [L_n( n) for n in n_array]"
      ],
      "execution_count": 0,
      "outputs": []
    },
    {
      "cell_type": "code",
      "metadata": {
        "id": "CaJzSjD79faG",
        "colab_type": "code",
        "outputId": "420c7d5e-8789-4272-8a93-09b4da8cacd9",
        "colab": {
          "base_uri": "https://localhost:8080/",
          "height": 286
        }
      },
      "source": [
        "plt.plot(n_array, l_n_hat, '-o', label = r'$\\hat{L_n}$')\n",
        "plt.plot(n_array, l_n,  '-*', label = r'$L_n$')\n",
        "plt.legend()"
      ],
      "execution_count": 12,
      "outputs": [
        {
          "output_type": "execute_result",
          "data": {
            "text/plain": [
              "<matplotlib.legend.Legend at 0x7f21756ace80>"
            ]
          },
          "metadata": {
            "tags": []
          },
          "execution_count": 12
        },
        {
          "output_type": "display_data",
          "data": {
            "image/png": "[encoded data removed]",
            "text/plain": [
              "<Figure size 432x288 with 1 Axes>"
            ]
          },
          "metadata": {
            "tags": []
          }
        }
      ]
    },
    {
      "cell_type": "markdown",
      "metadata": {
        "id": "UJq2de-79faI",
        "colab_type": "text"
      },
      "source": [
        "5) Calculate the probability, $p_n$ that Random QA system outputs the correct answer to your question. "
      ]
    },
    {
      "cell_type": "markdown",
      "metadata": {
        "id": "HrOc0ia19faJ",
        "colab_type": "text"
      },
      "source": [
        "$$p_n = \\frac{2}{n\\times(n+1)}$$"
      ]
    },
    {
      "cell_type": "markdown",
      "metadata": {
        "id": "h7U-hyat9faK",
        "colab_type": "text"
      },
      "source": [
        "6)  In SQuAD 2.0 data set, the answer for your question can either lie within the context paragraph or there could be no answer within the given paragraph. Let $\\alpha$ represent the fraction of questions for which the answer \\textbf{does not} lie within the paragraph."
      ]
    },
    {
      "cell_type": "code",
      "metadata": {
        "id": "iMFXNmNl9faK",
        "colab_type": "code",
        "colab": {}
      },
      "source": [
        "def estimate_alpha(data_loader):\n",
        "  no_answer = 0\n",
        "  total = 0\n",
        "  for batch in data_loader:\n",
        "    cw_idxs, cc_idxs, qw_idxs, qc_idxs, y1, y2, ids = batch\n",
        "    no_answer += sum(y1 == 0).item()\n",
        "    total += y1.size(-1)    \n",
        "  return no_answer/total"
      ],
      "execution_count": 0,
      "outputs": []
    },
    {
      "cell_type": "code",
      "metadata": {
        "id": "sOgdm1yF9faM",
        "colab_type": "code",
        "colab": {
          "base_uri": "https://localhost:8080/",
          "height": 119
        },
        "outputId": "d587fdbc-cc0c-4697-af5c-cfc2ed802752"
      },
      "source": [
        "## load dataset and call function to find alpha\n",
        "! git clone https://github.com/williamFalcon/squad.git"
      ],
      "execution_count": 13,
      "outputs": [
        {
          "output_type": "stream",
          "text": [
            "Cloning into 'squad'...\n",
            "remote: Enumerating objects: 14, done.\u001b[K\n",
            "remote: Counting objects:   7% (1/14)\u001b[K\rremote: Counting objects:  14% (2/14)\u001b[K\rremote: Counting objects:  21% (3/14)\u001b[K\rremote: Counting objects:  28% (4/14)\u001b[K\rremote: Counting objects:  35% (5/14)\u001b[K\rremote: Counting objects:  42% (6/14)\u001b[K\rremote: Counting objects:  50% (7/14)\u001b[K\rremote: Counting objects:  57% (8/14)\u001b[K\rremote: Counting objects:  64% (9/14)\u001b[K\rremote: Counting objects:  71% (10/14)\u001b[K\rremote: Counting objects:  78% (11/14)\u001b[K\rremote: Counting objects:  85% (12/14)\u001b[K\rremote: Counting objects:  92% (13/14)\u001b[K\rremote: Counting objects: 100% (14/14)\u001b[K\rremote: Counting objects: 100% (14/14), done.\u001b[K\n",
            "remote: Compressing objects:   7% (1/14)\u001b[K\rremote: Compressing objects:  14% (2/14)\u001b[K\rremote: Compressing objects:  21% (3/14)\u001b[K\rremote: Compressing objects:  28% (4/14)\u001b[K\rremote: Compressing objects:  35% (5/14)\u001b[K\rremote: Compressing objects:  42% (6/14)\u001b[K\rremote: Compressing objects:  50% (7/14)\u001b[K\rremote: Compressing objects:  57% (8/14)\u001b[K\rremote: Compressing objects:  64% (9/14)\u001b[K\rremote: Compressing objects:  71% (10/14)\u001b[K\rremote: Compressing objects:  78% (11/14)\u001b[K\rremote: Compressing objects:  85% (12/14)\u001b[K\rremote: Compressing objects:  92% (13/14)\u001b[K\rremote: Compressing objects: 100% (14/14)\u001b[K\rremote: Compressing objects: 100% (14/14), done.\u001b[K\n",
            "remote: Total 47 (delta 5), reused 3 (delta 0), pack-reused 33\u001b[K\n",
            "Unpacking objects: 100% (47/47), done.\n"
          ],
          "name": "stdout"
        }
      ]
    },
    {
      "cell_type": "code",
      "metadata": {
        "id": "2GSnR4b9P5Cw",
        "colab_type": "code",
        "colab": {
          "base_uri": "https://localhost:8080/",
          "height": 34
        },
        "outputId": "0d01a82a-74a9-421a-a546-3b91704e17b2"
      },
      "source": [
        "! cd squad/ && git pull"
      ],
      "execution_count": 14,
      "outputs": [
        {
          "output_type": "stream",
          "text": [
            "Already up to date.\n"
          ],
          "name": "stdout"
        }
      ]
    },
    {
      "cell_type": "code",
      "metadata": {
        "id": "PKMFiisJP5Fc",
        "colab_type": "code",
        "colab": {
          "base_uri": "https://localhost:8080/",
          "height": 51
        },
        "outputId": "40b338f6-f175-4866-fb99-5dc255a140bd"
      },
      "source": [
        "! ls squad"
      ],
      "execution_count": 15,
      "outputs": [
        {
          "output_type": "stream",
          "text": [
            "args.py  environment.yml  LICENSE    README.md\tsetup.py  train.py\n",
            "data\t layers.py\t  models.py  save\ttest.py   util.py\n"
          ],
          "name": "stdout"
        }
      ]
    },
    {
      "cell_type": "code",
      "metadata": {
        "id": "ck7XxnpvP5Kv",
        "colab_type": "code",
        "colab": {
          "base_uri": "https://localhost:8080/",
          "height": 207
        },
        "outputId": "4faaff9f-acdd-4732-c1e4-44c3192f53c9"
      },
      "source": [
        "! pip install ujson"
      ],
      "execution_count": 16,
      "outputs": [
        {
          "output_type": "stream",
          "text": [
            "Collecting ujson\n",
            "\u001b[?25l  Downloading https://files.pythonhosted.org/packages/16/c4/79f3409bc710559015464e5f49b9879430d8f87498ecdc335899732e5377/ujson-1.35.tar.gz (192kB)\n",
            "\r\u001b[K     |█▊                              | 10kB 31.9MB/s eta 0:00:01\r\u001b[K     |███▍                            | 20kB 1.8MB/s eta 0:00:01\r\u001b[K     |█████▏                          | 30kB 2.6MB/s eta 0:00:01\r\u001b[K     |██████▉                         | 40kB 1.7MB/s eta 0:00:01\r\u001b[K     |████████▌                       | 51kB 2.1MB/s eta 0:00:01\r\u001b[K     |██████████▎                     | 61kB 2.5MB/s eta 0:00:01\r\u001b[K     |████████████                    | 71kB 2.9MB/s eta 0:00:01\r\u001b[K     |█████████████▋                  | 81kB 3.3MB/s eta 0:00:01\r\u001b[K     |███████████████▍                | 92kB 3.7MB/s eta 0:00:01\r\u001b[K     |█████████████████               | 102kB 2.8MB/s eta 0:00:01\r\u001b[K     |██████████████████▊             | 112kB 2.8MB/s eta 0:00:01\r\u001b[K     |████████████████████▌           | 122kB 2.8MB/s eta 0:00:01\r\u001b[K     |██████████████████████▏         | 133kB 2.8MB/s eta 0:00:01\r\u001b[K     |████████████████████████        | 143kB 2.8MB/s eta 0:00:01\r\u001b[K     |█████████████████████████▋      | 153kB 2.8MB/s eta 0:00:01\r\u001b[K     |███████████████████████████▎    | 163kB 2.8MB/s eta 0:00:01\r\u001b[K     |█████████████████████████████   | 174kB 2.8MB/s eta 0:00:01\r\u001b[K     |██████████████████████████████▊ | 184kB 2.8MB/s eta 0:00:01\r\u001b[K     |████████████████████████████████| 194kB 2.8MB/s \n",
            "\u001b[?25hBuilding wheels for collected packages: ujson\n",
            "  Building wheel for ujson (setup.py) ... \u001b[?25l\u001b[?25hdone\n",
            "  Created wheel for ujson: filename=ujson-1.35-cp36-cp36m-linux_x86_64.whl size=68033 sha256=c770a4b04ad6c8fd381b82c8d862de2474368a3838bc581bdae692a58d513c20\n",
            "  Stored in directory: /root/.cache/pip/wheels/28/77/e4/0311145b9c2e2f01470e744855131f9e34d6919687550f87d1\n",
            "Successfully built ujson\n",
            "Installing collected packages: ujson\n",
            "Successfully installed ujson-1.35\n"
          ],
          "name": "stdout"
        }
      ]
    },
    {
      "cell_type": "code",
      "metadata": {
        "id": "Iq2tnzAUP5NZ",
        "colab_type": "code",
        "colab": {
          "base_uri": "https://localhost:8080/",
          "height": 785
        },
        "outputId": "cebc03c6-360a-4e5f-d084-73759b77157f"
      },
      "source": [
        "! cd squad/ && python setup.py"
      ],
      "execution_count": 17,
      "outputs": [
        {
          "output_type": "stream",
          "text": [
            "Downloading GloVe word vectors...\n",
            "glove.840B.300d.zip: 2.18GB [17:01, 2.13MB/s]                \n",
            "Unzipping GloVe word vectors...\n",
            "Downloading spacy language model...\n",
            "Requirement already satisfied: en_core_web_sm==2.1.0 from https://github.com/explosion/spacy-models/releases/download/en_core_web_sm-2.1.0/en_core_web_sm-2.1.0.tar.gz#egg=en_core_web_sm==2.1.0 in /usr/local/lib/python3.6/dist-packages (2.1.0)\n",
            "\u001b[38;5;2m✔ Download and installation successful\u001b[0m\n",
            "You can now load the model via spacy.load('en_core_web_sm')\n",
            "\u001b[38;5;2m✔ Linking successful\u001b[0m\n",
            "/usr/local/lib/python3.6/dist-packages/en_core_web_sm -->\n",
            "/usr/local/lib/python3.6/dist-packages/spacy/data/en\n",
            "You can now load the model via spacy.load('en')\n",
            "Pre-processing train examples...\n",
            "100% 442/442 [01:33<00:00,  3.95it/s]\n",
            "130319 questions in total\n",
            "Pre-processing word vectors...\n",
            "2196018it [02:55, 12512.31it/s]                 \n",
            "88744 / 107454 tokens have corresponding word embedding vector\n",
            "Pre-processing char vectors...\n",
            "1374 tokens have corresponding char embedding vector\n",
            "Pre-processing dev examples...\n",
            "100% 16/16 [00:03<00:00,  4.04it/s]\n",
            "6078 questions in total\n",
            "Converting train examples to indices...\n",
            "130319it [00:41, 3177.16it/s]\n",
            "tcmalloc: large alloc 3326009344 bytes == 0x137ec6000 @  0x7ff72823c1e7 0x7ff725d1bf71 0x7ff725d7f55d 0x7ff725d82e28 0x7ff725d833e5 0x7ff725e19fc2 0x50abc5 0x50c549 0x5081d5 0x50a020 0x50aa1d 0x50c549 0x509ce8 0x50aa1d 0x50c549 0x5081d5 0x50b3a3 0x635082 0x635137 0x6388ef 0x639491 0x4b0f60 0x7ff727e39b97 0x5b2eaa\n",
            "Built 129922 / 130319 instances of features in total\n",
            "Converting dev examples to indices...\n",
            "6078it [00:01, 3061.16it/s]\n",
            "Built 5951 / 6078 instances of features in total\n",
            "Pre-processing test examples...\n",
            "100% 20/20 [00:03<00:00,  5.93it/s]\n",
            "5915 questions in total\n",
            "Saving test eval...\n",
            "Converting test examples to indices...\n",
            "5915it [00:01, 3007.29it/s]\n",
            "Built 5915 / 5915 instances of features in total\n",
            "Saving test meta...\n",
            "Saving word embedding...\n",
            "Saving char embedding...\n",
            "Saving train eval...\n",
            "Saving dev eval...\n",
            "Saving word dictionary...\n",
            "Saving char dictionary...\n",
            "Saving dev meta...\n"
          ],
          "name": "stdout"
        }
      ]
    },
    {
      "cell_type": "code",
      "metadata": {
        "id": "MWxUrdpqQE3d",
        "colab_type": "code",
        "colab": {}
      },
      "source": [
        "import numpy.random as random\n",
        "seed = 224\n",
        "random.seed(seed)\n",
        "import torch\n",
        "np.random.seed(seed)\n",
        "torch.manual_seed(seed)\n",
        "torch.cuda.manual_seed_all(seed)"
      ],
      "execution_count": 0,
      "outputs": []
    },
    {
      "cell_type": "code",
      "metadata": {
        "id": "aNkyRhrfQE50",
        "colab_type": "code",
        "colab": {}
      },
      "source": [
        "import os\n",
        "import sys\n",
        "module_path = os.path.abspath(os.path.join('..'))\n",
        "if module_path not in sys.path:\n",
        "    sys.path.append(module_path)\n",
        "    \n",
        "import numpy as np\n",
        "import random\n",
        "import torch\n",
        "import torch.nn as nn\n",
        "import torch.nn.functional as F\n",
        "import torch.optim as optim\n",
        "import torch.optim.lr_scheduler as sched\n",
        "import torch.utils.data as data\n",
        "\n",
        "from squad.util import collate_fn, SQuAD\n",
        "from collections import OrderedDict\n",
        "from json import dumps\n",
        "from tqdm import tqdm\n",
        "from ujson import load as json_load\n",
        "#import pytorch_lightning as pl\n",
        "\n",
        "from squad import layers, util\n",
        "import os\n",
        "\n",
        "DIR = os.getcwd()"
      ],
      "execution_count": 0,
      "outputs": []
    },
    {
      "cell_type": "code",
      "metadata": {
        "id": "PxLZN5gSQQcQ",
        "colab_type": "code",
        "colab": {}
      },
      "source": [
        "train_path = os.path.join(DIR, 'squad/data/train.npz')\n",
        "train_loader = data.DataLoader(SQuAD(train_path),\n",
        "                               batch_size=64,\n",
        "                               shuffle=True,\n",
        "                               drop_last=True,\n",
        "                               collate_fn=collate_fn)\n",
        "dev_path = os.path.join(DIR, 'squad/data/dev.npz')\n",
        "dev_loader = data.DataLoader(SQuAD(dev_path),\n",
        "                               batch_size=64,\n",
        "                               shuffle=True,\n",
        "                               drop_last=True,\n",
        "                               collate_fn=collate_fn)\n",
        "test_path = os.path.join(DIR, 'squad/data/test.npz')\n",
        "test_loader = data.DataLoader(SQuAD(test_path),\n",
        "                               batch_size=64,\n",
        "                               shuffle=True,\n",
        "                               drop_last=True,\n",
        "                               collate_fn=collate_fn)"
      ],
      "execution_count": 0,
      "outputs": []
    },
    {
      "cell_type": "code",
      "metadata": {
        "id": "2PNcY0zYeerB",
        "colab_type": "code",
        "colab": {
          "base_uri": "https://localhost:8080/",
          "height": 34
        },
        "outputId": "fde81f5a-e38d-4f28-bad1-f06cfad7d580"
      },
      "source": [
        "print(\"alpha: \",estimate_alpha(train_loader))"
      ],
      "execution_count": 24,
      "outputs": [
        {
          "output_type": "stream",
          "text": [
            "alpha:  0.33364378078817736\n"
          ],
          "name": "stdout"
        }
      ]
    },
    {
      "cell_type": "code",
      "metadata": {
        "id": "GrjdwY8ZwItG",
        "colab_type": "code",
        "colab": {}
      },
      "source": [
        "alpha = estimate_alpha(train_loader)"
      ],
      "execution_count": 0,
      "outputs": []
    },
    {
      "cell_type": "code",
      "metadata": {
        "id": "pAFILSg89faO",
        "colab_type": "code",
        "colab": {}
      },
      "source": [
        "## implement random QA model\n",
        "## load dataset \n",
        "## find F1 and EM on Dev Set\n",
        "\n",
        "dev_dataset = SQuAD(dev_path)\n",
        "\n",
        "f1_list = []\n",
        "em_list = []\n",
        "\n",
        "for i in range(100):\n",
        "  f1 = 0.0\n",
        "  em = 0.0\n",
        "  for cw_idxs, cc_idxs, qw_idxs, qc_idxs, y1, y2, ids in dev_dataset:\n",
        "    real_len = sum(cw_idxs != 0).item()\n",
        "    test = np.random.rand()\n",
        "    if test <= alpha:\n",
        "      if y1.item() == 0:\n",
        "        f1 += 1\n",
        "        em += 1\n",
        "    else:\n",
        "      if y1.item() != 0 and y2.item() != 0:\n",
        "        while True:\n",
        "          start_idx = np.random.randint(0,real_len)\n",
        "          end_idx = np.random.randint(0,real_len)\n",
        "          if end_idx >= start_idx:\n",
        "            preds_ids = cw_idxs[start_idx:end_idx+1].tolist()\n",
        "            preds = \" \".join([str(id) for id in preds_ids])\n",
        "            answer_ids = cw_idxs[y1.item():y2.item()+1].tolist()\n",
        "            answer = \" \".join([str(id) for id in answer_ids])\n",
        "            f1 += util.compute_f1(answer,preds)\n",
        "            em += util.compute_em(answer,preds)\n",
        "            break\n",
        "\n",
        "  f1_score = f1/len(dev_dataset)\n",
        "  em_score = em/len(dev_dataset)  \n",
        "  f1_list.append(f1_score)\n",
        "  em_list.append(em_score)"
      ],
      "execution_count": 0,
      "outputs": []
    },
    {
      "cell_type": "code",
      "metadata": {
        "id": "hDnHNE7mq2sV",
        "colab_type": "code",
        "colab": {
          "base_uri": "https://localhost:8080/",
          "height": 85
        },
        "outputId": "d0b3c89a-92b6-432d-89d2-4a7017e19c34"
      },
      "source": [
        "print(\"mean F1: \",np.mean(f1_list))\n",
        "print(\"F1 std: \", np.std(f1_list))\n",
        "print(\"mean EM: \",np.mean(em_list))\n",
        "print(\"EN std: \", np.std(em_list))"
      ],
      "execution_count": 95,
      "outputs": [
        {
          "output_type": "stream",
          "text": [
            "mean F1:  0.19437271637320086\n",
            "F1 std:  0.004545101980597696\n",
            "mean EM:  0.1739842043354058\n",
            "EN std:  0.004468749038454429\n"
          ],
          "name": "stdout"
        }
      ]
    },
    {
      "cell_type": "markdown",
      "metadata": {
        "id": "uM1acBks9faQ",
        "colab_type": "text"
      },
      "source": [
        "##### F1 Score on Dev Set:\n",
        "##### EM on Dev Set: "
      ]
    }
  ]
}